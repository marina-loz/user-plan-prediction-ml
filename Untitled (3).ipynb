{
 "cells": [
  {
   "cell_type": "markdown",
   "id": "468e2a80-acdd-49d6-829a-15a1819d6225",
   "metadata": {},
   "source": [
    "# Mobile Plan Recommendation Project\n",
    "\n",
    "## Project Description\n",
    "\n",
    "Megaline is a mobile carrier that found many of their customers are still using outdated plans. They want to recommend users to switch to one of their newer plans: Smart or Ultra.\n",
    "\n",
    "To help with that, I was given user behavior data, including:\n",
    "- the number of calls,\n",
    "- total call duration (in minutes),\n",
    "- number of text messages,\n",
    "- and internet usage (in MB).\n",
    "- The dataset also includes the actual plan used by each customer (is_ultra, where 1 means Ultra and 0 means Smart).\n",
    "\n",
    "The goal of this project is `to build a machine learning model` that can predict which plan (Smart or Ultra) would be more suitable for a user based on their behavior.\n",
    "\n",
    "To evaluate the model, I’ll be using accuracy as the main metric. The goal is to achieve at least 0.75 accuracy on the test set."
   ]
  },
  {
   "cell_type": "code",
   "execution_count": 252,
   "id": "85a0f754-98a5-4ff2-8568-6c0d81367e2a",
   "metadata": {},
   "outputs": [],
   "source": [
    "# Importing necessary libraries\n",
    "import pandas as pd \n",
    "from sklearn.model_selection import train_test_split\n",
    "from sklearn.tree import DecisionTreeClassifier\n",
    "from sklearn.ensemble import RandomForestClassifier\n",
    "from sklearn.linear_model import LogisticRegression\n",
    "from sklearn.metrics import accuracy_score, precision_score, recall_score\n",
    "from sklearn.dummy import DummyClassifier\n",
    "import matplotlib.pyplot as plt\n",
    "import seaborn as sns\n",
    "from sklearn.tree import plot_tree"
   ]
  },
  {
   "cell_type": "code",
   "execution_count": 144,
   "id": "f1968e6d-5dc9-4ef8-be14-8c4a76b2bf9d",
   "metadata": {},
   "outputs": [],
   "source": [
    "# Loading data\n",
    "df = pd.read_csv('datasets/users_behavior.csv')"
   ]
  },
  {
   "cell_type": "code",
   "execution_count": 232,
   "id": "c02f85d3-f958-4b4e-8f08-d31979b1a8b5",
   "metadata": {},
   "outputs": [
    {
     "data": {
      "text/html": [
       "<div>\n",
       "<style scoped>\n",
       "    .dataframe tbody tr th:only-of-type {\n",
       "        vertical-align: middle;\n",
       "    }\n",
       "\n",
       "    .dataframe tbody tr th {\n",
       "        vertical-align: top;\n",
       "    }\n",
       "\n",
       "    .dataframe thead th {\n",
       "        text-align: right;\n",
       "    }\n",
       "</style>\n",
       "<table border=\"1\" class=\"dataframe\">\n",
       "  <thead>\n",
       "    <tr style=\"text-align: right;\">\n",
       "      <th></th>\n",
       "      <th>calls</th>\n",
       "      <th>minutes</th>\n",
       "      <th>messages</th>\n",
       "      <th>mb_used</th>\n",
       "      <th>is_ultra</th>\n",
       "    </tr>\n",
       "  </thead>\n",
       "  <tbody>\n",
       "    <tr>\n",
       "      <th>0</th>\n",
       "      <td>40</td>\n",
       "      <td>311.90</td>\n",
       "      <td>83</td>\n",
       "      <td>19915.42</td>\n",
       "      <td>0</td>\n",
       "    </tr>\n",
       "    <tr>\n",
       "      <th>1</th>\n",
       "      <td>85</td>\n",
       "      <td>516.75</td>\n",
       "      <td>56</td>\n",
       "      <td>22696.96</td>\n",
       "      <td>0</td>\n",
       "    </tr>\n",
       "    <tr>\n",
       "      <th>2</th>\n",
       "      <td>77</td>\n",
       "      <td>467.66</td>\n",
       "      <td>86</td>\n",
       "      <td>21060.45</td>\n",
       "      <td>0</td>\n",
       "    </tr>\n",
       "    <tr>\n",
       "      <th>3</th>\n",
       "      <td>106</td>\n",
       "      <td>745.53</td>\n",
       "      <td>81</td>\n",
       "      <td>8437.39</td>\n",
       "      <td>1</td>\n",
       "    </tr>\n",
       "    <tr>\n",
       "      <th>4</th>\n",
       "      <td>66</td>\n",
       "      <td>418.74</td>\n",
       "      <td>1</td>\n",
       "      <td>14502.75</td>\n",
       "      <td>0</td>\n",
       "    </tr>\n",
       "  </tbody>\n",
       "</table>\n",
       "</div>"
      ],
      "text/plain": [
       "   calls  minutes  messages   mb_used  is_ultra\n",
       "0     40   311.90        83  19915.42         0\n",
       "1     85   516.75        56  22696.96         0\n",
       "2     77   467.66        86  21060.45         0\n",
       "3    106   745.53        81   8437.39         1\n",
       "4     66   418.74         1  14502.75         0"
      ]
     },
     "execution_count": 232,
     "metadata": {},
     "output_type": "execute_result"
    }
   ],
   "source": [
    "# Check of first 5 rows\n",
    "df.head()"
   ]
  },
  {
   "cell_type": "code",
   "execution_count": 146,
   "id": "ae8d6289-ff63-4f4b-871c-f95942cb787c",
   "metadata": {},
   "outputs": [
    {
     "name": "stdout",
     "output_type": "stream",
     "text": [
      "<class 'pandas.core.frame.DataFrame'>\n",
      "RangeIndex: 3214 entries, 0 to 3213\n",
      "Data columns (total 5 columns):\n",
      " #   Column    Non-Null Count  Dtype  \n",
      "---  ------    --------------  -----  \n",
      " 0   calls     3214 non-null   float64\n",
      " 1   minutes   3214 non-null   float64\n",
      " 2   messages  3214 non-null   float64\n",
      " 3   mb_used   3214 non-null   float64\n",
      " 4   is_ultra  3214 non-null   int64  \n",
      "dtypes: float64(4), int64(1)\n",
      "memory usage: 125.7 KB\n"
     ]
    }
   ],
   "source": [
    "df.info()"
   ]
  },
  {
   "cell_type": "code",
   "execution_count": 147,
   "id": "1ad3214a-9a3c-4a03-b17e-add5ec3c12cb",
   "metadata": {},
   "outputs": [
    {
     "data": {
      "text/plain": [
       "0"
      ]
     },
     "execution_count": 147,
     "metadata": {},
     "output_type": "execute_result"
    }
   ],
   "source": [
    "df.duplicated().sum()"
   ]
  },
  {
   "cell_type": "code",
   "execution_count": 234,
   "id": "c3e60799-d218-4afe-b0f9-210ac93c7d05",
   "metadata": {},
   "outputs": [],
   "source": [
    "# We don't have null values, duplicates. So let's correct data types"
   ]
  },
  {
   "cell_type": "code",
   "execution_count": 148,
   "id": "2794b26f-b79c-4972-869b-c2857e12f0e0",
   "metadata": {},
   "outputs": [],
   "source": [
    "df['calls'] = df['calls'].astype('int')"
   ]
  },
  {
   "cell_type": "code",
   "execution_count": 149,
   "id": "72d70965-2697-44e5-a4d2-1db74faabcb7",
   "metadata": {},
   "outputs": [],
   "source": [
    "df['messages'] = df['messages'].astype('int')"
   ]
  },
  {
   "cell_type": "code",
   "execution_count": 150,
   "id": "654e3d97-116d-428a-9597-18d48dbdbfba",
   "metadata": {},
   "outputs": [
    {
     "data": {
      "text/plain": [
       "is_ultra\n",
       "0    2229\n",
       "1     985\n",
       "Name: count, dtype: int64"
      ]
     },
     "execution_count": 150,
     "metadata": {},
     "output_type": "execute_result"
    }
   ],
   "source": [
    "df['is_ultra'].value_counts()\n"
   ]
  },
  {
   "cell_type": "code",
   "execution_count": 151,
   "id": "97c01277-2d7d-433a-941c-12d6a4ce8519",
   "metadata": {},
   "outputs": [
    {
     "name": "stdout",
     "output_type": "stream",
     "text": [
      "<class 'pandas.core.frame.DataFrame'>\n",
      "RangeIndex: 3214 entries, 0 to 3213\n",
      "Data columns (total 5 columns):\n",
      " #   Column    Non-Null Count  Dtype  \n",
      "---  ------    --------------  -----  \n",
      " 0   calls     3214 non-null   int32  \n",
      " 1   minutes   3214 non-null   float64\n",
      " 2   messages  3214 non-null   int32  \n",
      " 3   mb_used   3214 non-null   float64\n",
      " 4   is_ultra  3214 non-null   int64  \n",
      "dtypes: float64(2), int32(2), int64(1)\n",
      "memory usage: 100.6 KB\n"
     ]
    }
   ],
   "source": [
    "df.info()\n"
   ]
  },
  {
   "cell_type": "code",
   "execution_count": 152,
   "id": "e070a04c-5706-4c94-be07-36bf5f41a123",
   "metadata": {},
   "outputs": [
    {
     "data": {
      "text/html": [
       "<div>\n",
       "<style scoped>\n",
       "    .dataframe tbody tr th:only-of-type {\n",
       "        vertical-align: middle;\n",
       "    }\n",
       "\n",
       "    .dataframe tbody tr th {\n",
       "        vertical-align: top;\n",
       "    }\n",
       "\n",
       "    .dataframe thead th {\n",
       "        text-align: right;\n",
       "    }\n",
       "</style>\n",
       "<table border=\"1\" class=\"dataframe\">\n",
       "  <thead>\n",
       "    <tr style=\"text-align: right;\">\n",
       "      <th>is_ultra</th>\n",
       "      <th>0</th>\n",
       "      <th>1</th>\n",
       "    </tr>\n",
       "  </thead>\n",
       "  <tbody>\n",
       "    <tr>\n",
       "      <th>calls</th>\n",
       "      <td>58.463437</td>\n",
       "      <td>73.392893</td>\n",
       "    </tr>\n",
       "    <tr>\n",
       "      <th>minutes</th>\n",
       "      <td>405.942952</td>\n",
       "      <td>511.224569</td>\n",
       "    </tr>\n",
       "    <tr>\n",
       "      <th>messages</th>\n",
       "      <td>33.384029</td>\n",
       "      <td>49.363452</td>\n",
       "    </tr>\n",
       "    <tr>\n",
       "      <th>mb_used</th>\n",
       "      <td>16208.466949</td>\n",
       "      <td>19468.823228</td>\n",
       "    </tr>\n",
       "  </tbody>\n",
       "</table>\n",
       "</div>"
      ],
      "text/plain": [
       "is_ultra             0             1\n",
       "calls        58.463437     73.392893\n",
       "minutes     405.942952    511.224569\n",
       "messages     33.384029     49.363452\n",
       "mb_used   16208.466949  19468.823228"
      ]
     },
     "execution_count": 152,
     "metadata": {},
     "output_type": "execute_result"
    }
   ],
   "source": [
    "df.groupby(['is_ultra']).mean().T"
   ]
  },
  {
   "cell_type": "markdown",
   "id": "6479a534-3eb2-443d-bc16-5f9ae71f9020",
   "metadata": {},
   "source": [
    "The average usage data shows clear behavioral differences between Smart (0) and Ultra (1) users:\r\n",
    "\r\n",
    "- Ultra users make more calls and talk longer on average.\r\n",
    "- They send more text messages.\r\n",
    "- They also use significantly more internet data.\r\n",
    "\r\n",
    "**Conclusion:**  \r\n",
    "Ultra users are generally more active across all services. These differences make the `is_ultra` target variable predictable based on behavioral features like calls, minutes, messages, and data usage."
   ]
  },
  {
   "cell_type": "code",
   "execution_count": 154,
   "id": "2adc21d0-b054-431c-b316-bee52d025c7f",
   "metadata": {},
   "outputs": [
    {
     "data": {
      "text/html": [
       "<div>\n",
       "<style scoped>\n",
       "    .dataframe tbody tr th:only-of-type {\n",
       "        vertical-align: middle;\n",
       "    }\n",
       "\n",
       "    .dataframe tbody tr th {\n",
       "        vertical-align: top;\n",
       "    }\n",
       "\n",
       "    .dataframe thead th {\n",
       "        text-align: right;\n",
       "    }\n",
       "</style>\n",
       "<table border=\"1\" class=\"dataframe\">\n",
       "  <thead>\n",
       "    <tr style=\"text-align: right;\">\n",
       "      <th></th>\n",
       "      <th>calls</th>\n",
       "      <th>minutes</th>\n",
       "      <th>messages</th>\n",
       "      <th>mb_used</th>\n",
       "      <th>is_ultra</th>\n",
       "    </tr>\n",
       "  </thead>\n",
       "  <tbody>\n",
       "    <tr>\n",
       "      <th>count</th>\n",
       "      <td>3214.000000</td>\n",
       "      <td>3214.000000</td>\n",
       "      <td>3214.000000</td>\n",
       "      <td>3214.000000</td>\n",
       "      <td>3214.000000</td>\n",
       "    </tr>\n",
       "    <tr>\n",
       "      <th>mean</th>\n",
       "      <td>63.038892</td>\n",
       "      <td>438.208787</td>\n",
       "      <td>38.281269</td>\n",
       "      <td>17207.673836</td>\n",
       "      <td>0.306472</td>\n",
       "    </tr>\n",
       "    <tr>\n",
       "      <th>std</th>\n",
       "      <td>33.236368</td>\n",
       "      <td>234.569872</td>\n",
       "      <td>36.148326</td>\n",
       "      <td>7570.968246</td>\n",
       "      <td>0.461100</td>\n",
       "    </tr>\n",
       "    <tr>\n",
       "      <th>min</th>\n",
       "      <td>0.000000</td>\n",
       "      <td>0.000000</td>\n",
       "      <td>0.000000</td>\n",
       "      <td>0.000000</td>\n",
       "      <td>0.000000</td>\n",
       "    </tr>\n",
       "    <tr>\n",
       "      <th>25%</th>\n",
       "      <td>40.000000</td>\n",
       "      <td>274.575000</td>\n",
       "      <td>9.000000</td>\n",
       "      <td>12491.902500</td>\n",
       "      <td>0.000000</td>\n",
       "    </tr>\n",
       "    <tr>\n",
       "      <th>50%</th>\n",
       "      <td>62.000000</td>\n",
       "      <td>430.600000</td>\n",
       "      <td>30.000000</td>\n",
       "      <td>16943.235000</td>\n",
       "      <td>0.000000</td>\n",
       "    </tr>\n",
       "    <tr>\n",
       "      <th>75%</th>\n",
       "      <td>82.000000</td>\n",
       "      <td>571.927500</td>\n",
       "      <td>57.000000</td>\n",
       "      <td>21424.700000</td>\n",
       "      <td>1.000000</td>\n",
       "    </tr>\n",
       "    <tr>\n",
       "      <th>max</th>\n",
       "      <td>244.000000</td>\n",
       "      <td>1632.060000</td>\n",
       "      <td>224.000000</td>\n",
       "      <td>49745.730000</td>\n",
       "      <td>1.000000</td>\n",
       "    </tr>\n",
       "  </tbody>\n",
       "</table>\n",
       "</div>"
      ],
      "text/plain": [
       "             calls      minutes     messages       mb_used     is_ultra\n",
       "count  3214.000000  3214.000000  3214.000000   3214.000000  3214.000000\n",
       "mean     63.038892   438.208787    38.281269  17207.673836     0.306472\n",
       "std      33.236368   234.569872    36.148326   7570.968246     0.461100\n",
       "min       0.000000     0.000000     0.000000      0.000000     0.000000\n",
       "25%      40.000000   274.575000     9.000000  12491.902500     0.000000\n",
       "50%      62.000000   430.600000    30.000000  16943.235000     0.000000\n",
       "75%      82.000000   571.927500    57.000000  21424.700000     1.000000\n",
       "max     244.000000  1632.060000   224.000000  49745.730000     1.000000"
      ]
     },
     "execution_count": 154,
     "metadata": {},
     "output_type": "execute_result"
    }
   ],
   "source": [
    "df.describe()"
   ]
  },
  {
   "cell_type": "markdown",
   "id": "26458261-b659-44e6-a22a-2ab1b7151eff",
   "metadata": {},
   "source": [
    "Here's what we can observe from the descriptive statistics:\r\n",
    "\r\n",
    "- The average user makes about **63 calls**, talks for **438 minutes**, sends **38 messages**, and uses around **17.2 GB** of internet per month.\r\n",
    "- There is a **wide range** in usage, with some users making **no calls or messages**, and others making up to **244 calls**, sending **224 messages**, or using nearly **50 GB** of internet.\r\n",
    "- The standard deviations for all features are quite high, indicating **significant variability** in user behavior.\r\n",
    "\r\n",
    "**Conclusion:**  \r\n",
    "User behavior is highly diverse. Some users barely use their mobile services, while others are heavy users. This variability provides useful patterns for the model to learn and distinguish between Smart and Ultra plan users."
   ]
  },
  {
   "cell_type": "code",
   "execution_count": 156,
   "id": "a9f48490-39df-4b79-8af0-16136054608f",
   "metadata": {},
   "outputs": [
    {
     "data": {
      "image/png": "[encoded data removed]",
      "text/plain": [
       "<Figure size 640x480 with 2 Axes>"
      ]
     },
     "metadata": {},
     "output_type": "display_data"
    }
   ],
   "source": [
    "cm=df.corr()\n",
    "\n",
    "sns.heatmap(cm, annot =True)\n",
    "plt.title('Correleation Matrix')\n",
    "plt.show()"
   ]
  },
  {
   "cell_type": "markdown",
   "id": "5fd107bb-b452-482b-807b-5a741892706e",
   "metadata": {},
   "source": [
    "The heatmap shows the correlation between all numerical features and the target variable `is_ultra`.\n",
    "\n",
    "- The strongest correlation is between **calls** and **minutes** (0.98), which is expected since longer calls naturally mean more minutes.\n",
    "- All other features (`messages`, `mb_used`, `calls`, `minutes`) show **weak correlations** (around 0.2) with the target `is_ultra`.\n",
    "- This weak but consistent correlation across features suggests that **each feature contributes slightly** to predicting the plan type, but **no single feature is dominant**.\n",
    "\n",
    "**Conclusion:**  \n",
    "Even though individual correlations with `is_ultra` are weak, combining all features in a machine learning model can still lead to meaningful predictions."
   ]
  },
  {
   "cell_type": "markdown",
   "id": "90f88383-3371-49c3-a209-5fd881ec637f",
   "metadata": {},
   "source": [
    "## Split the data into training, validation, and test sets"
   ]
  },
  {
   "attachments": {},
   "cell_type": "markdown",
   "id": "ade94281-11de-415b-a586-9eb381fc21cf",
   "metadata": {},
   "source": [
    "![Splitting the data](picture1.jpg)\n"
   ]
  },
  {
   "cell_type": "code",
   "execution_count": 160,
   "id": "71f1b0d4-e3a1-4d96-a207-a58d59954a26",
   "metadata": {},
   "outputs": [],
   "source": [
    "# Split 60% train, 40% remaining (which will become validation + test)\n",
    "train, valid = train_test_split(df, test_size=0.4, random_state=42)\n",
    "# Split remaining 40% equally into validation and test (each 20% of the original data)\n",
    "valid_set, test_set = train_test_split(valid, test_size=0.5, random_state=42)"
   ]
  },
  {
   "cell_type": "markdown",
   "id": "b619685a-b20d-4197-89fc-e4dec6e41af5",
   "metadata": {},
   "source": [
    "| Set       |\tShare of the total |\tPurpose |\n",
    "|---------------------|----------|-----------|\n",
    "| train     |\t60%\t               | Used to train the model |\n",
    "| valid_set |\t20%                |\tUsed to tune hyperparameters |\n",
    "| test_set  |\t20%                | Used for final model evaluation |"
   ]
  },
  {
   "cell_type": "code",
   "execution_count": 162,
   "id": "2ab6d225-026b-4ced-98cb-08669cac42fe",
   "metadata": {},
   "outputs": [
    {
     "data": {
      "text/plain": [
       "(1928, 5)"
      ]
     },
     "execution_count": 162,
     "metadata": {},
     "output_type": "execute_result"
    }
   ],
   "source": [
    "train.shape\n"
   ]
  },
  {
   "cell_type": "code",
   "execution_count": 163,
   "id": "1a2c673f-0097-4760-8d23-11f7f43c5230",
   "metadata": {},
   "outputs": [
    {
     "data": {
      "text/plain": [
       "(1286, 5)"
      ]
     },
     "execution_count": 163,
     "metadata": {},
     "output_type": "execute_result"
    }
   ],
   "source": [
    "valid.shape"
   ]
  },
  {
   "cell_type": "code",
   "execution_count": 164,
   "id": "2f4a41ef-11c7-46f8-800f-579198fe4ec5",
   "metadata": {},
   "outputs": [
    {
     "data": {
      "text/plain": [
       "(643, 5)"
      ]
     },
     "metadata": {},
     "output_type": "display_data"
    },
    {
     "data": {
      "text/plain": [
       "(643, 5)"
      ]
     },
     "metadata": {},
     "output_type": "display_data"
    }
   ],
   "source": [
    "display(valid_set.shape)\n",
    "display(test_set.shape)"
   ]
  },
  {
   "cell_type": "code",
   "execution_count": 165,
   "id": "e63baff5-1f3f-4c53-afa3-eafdee28422e",
   "metadata": {},
   "outputs": [
    {
     "data": {
      "text/plain": [
       "0.5998755444928439"
      ]
     },
     "execution_count": 165,
     "metadata": {},
     "output_type": "execute_result"
    }
   ],
   "source": [
    "len(train)/len(df)"
   ]
  },
  {
   "cell_type": "markdown",
   "id": "9be05fff-6f65-4692-869d-211993e751cd",
   "metadata": {},
   "source": [
    "## Defining the Target Column\n",
    "In this classification task, our goal is to predict **which mobile plan a user is most likely to choose: Ultra or Smart.** The dataset includes a column called *is_ultra*, which clearly indicates the user's current plan for the month:\n",
    "\n",
    "- 1 — the user is using the Ultra plan\n",
    "\n",
    "- 0 — the user is using the Smart plan\n",
    "\n",
    "Since this column represents the category we want our model to predict, we use is_ultra as the target variable. All other columns (such as number of calls, total call minutes, messages, and internet traffic used) are used as features, as they describe user behavior that may influence their choice of plan."
   ]
  },
  {
   "cell_type": "code",
   "execution_count": 167,
   "id": "8f09871c-a657-4baa-958d-13d766e7c5c9",
   "metadata": {},
   "outputs": [
    {
     "name": "stdout",
     "output_type": "stream",
     "text": [
      "(1928, 4)\n",
      "(1928,)\n"
     ]
    }
   ],
   "source": [
    "# Define feature columns (all except the target)\n",
    "features_train = train.drop('is_ultra', axis=1)\n",
    "\n",
    "# Define the target column\n",
    "target_train = train['is_ultra']\n",
    "print(features_train.shape)\n",
    "print(target_train.shape)\n"
   ]
  },
  {
   "cell_type": "code",
   "execution_count": 168,
   "id": "ee51272a-0dd7-4522-8499-fff6f317c044",
   "metadata": {},
   "outputs": [],
   "source": [
    "# Define feature columns (all except the target)\n",
    "features_valid = valid_set.drop('is_ultra', axis=1)\n",
    "\n",
    "# Define the target column\n",
    "target_valid = valid_set['is_ultra']\n",
    "\n",
    "# Define feature columns (all except the target)\n",
    "features_test = test_set.drop('is_ultra', axis=1)\n",
    "\n",
    "# Define the target column\n",
    "target_test = test_set['is_ultra']\n"
   ]
  },
  {
   "cell_type": "markdown",
   "id": "2b443b43-2856-4c55-b198-14e949d7fd5e",
   "metadata": {},
   "source": [
    "## *Train models and tune hyperparameters*"
   ]
  },
  {
   "cell_type": "markdown",
   "id": "80552dfd-ac3e-49a4-8824-37e4f61f7356",
   "metadata": {},
   "source": [
    "For evaluating model performance more thoroughly, I calculate three key metrics:\n",
    "\n",
    "- **Accuracy**:  \n",
    "  The proportion of total correct predictions.  \n",
    "  *Formula:* `(TP + TN) / (TP + TN + FP + FN)`\n",
    "\n",
    "- **Precision** (for class 1 - Ultra):  \n",
    "  Out of all predicted Ultra users, how many are actually Ultra?  \n",
    "  *Formula:* `TP / (TP + FP)`  \n",
    "  High precision means fewer false positives.\n",
    "\n",
    "- **Recall** (for class 1 - Ultra):  \n",
    "  Out of all actual Ultra users, how many did we correctly identify?  \n",
    "  *Formula:* `TP / (TP + FN)`  \n",
    "  High recall means fewer false negatives.\n",
    "  \n"
   ]
  },
  {
   "cell_type": "markdown",
   "id": "1f4bad80-bc9a-42dc-80de-8b3b2b7ffbfa",
   "metadata": {},
   "source": [
    "### Decision Tree"
   ]
  },
  {
   "cell_type": "code",
   "execution_count": 214,
   "id": "96a39f72-198b-4eaf-afb7-a9801b7b4312",
   "metadata": {},
   "outputs": [
    {
     "name": "stdout",
     "output_type": "stream",
     "text": [
      "Best depth of Decision Tree: 8\n",
      "Best Decision Tree accuracy: 0.796\n",
      "Precision: 0.780\n",
      "Recall: 0.467\n"
     ]
    }
   ],
   "source": [
    "best_tree_model = None\n",
    "best_tree_accuracy = 0\n",
    "\n",
    "# Try different max_depth values to find the best one\n",
    "for depth in range(1, 11):\n",
    "    model = DecisionTreeClassifier(max_depth=depth, random_state=123)\n",
    "    model.fit(features_train, target_train)\n",
    "    predictions_valid = model.predict(features_valid)\n",
    "    accuracy = accuracy_score(target_valid, predictions_valid)\n",
    "    precision = precision_score(target_valid, predictions_valid)\n",
    "    recall = recall_score(target_valid, predictions_valid)\n",
    "    if accuracy > best_tree_accuracy:\n",
    "        best_tree_accuracy = accuracy\n",
    "        best_tree_model = model\n",
    "        best_tree_depth = depth\n",
    "        best_tree_precision = precision\n",
    "        best_tree_recall = recall\n",
    "print(f'Best depth of Decision Tree: {best_tree_depth}')\n",
    "print(f'Best Decision Tree accuracy: {best_tree_accuracy:.3f}')\n",
    "print(f'Precision: {best_tree_precision:.3f}')\n",
    "print(f'Recall: {best_tree_recall:.3f}')"
   ]
  },
  {
   "cell_type": "markdown",
   "id": "32402ddc-0270-4322-aab4-a9775432249a",
   "metadata": {},
   "source": [
    "- The model correctly predicts ~80% of all users overall (high accuracy).\n",
    "- Precision is also quite high (0.78), meaning that when the model predicts the Ultra plan, it is usually correct.\n",
    "- However, recall is relatively low (0.467), meaning the model misses many actual Ultra users.\n",
    "\n",
    "**Conclusion:**\n",
    "The model is cautious when predicting the Ultra plan — it avoids false positives, but as a result, it often fails to detect real Ultra users. If the business goal is to **not miss potential Ultra subscribers**, we might want a model with higher recall.\n"
   ]
  },
  {
   "cell_type": "code",
   "execution_count": 260,
   "id": "10135f22-2c20-423c-8bc3-858afa9f8337",
   "metadata": {},
   "outputs": [
    {
     "data": {
      "image/png": "[encoded data removed]",
      "text/plain": [
       "<Figure size 1600x800 with 1 Axes>"
      ]
     },
     "metadata": {},
     "output_type": "display_data"
    }
   ],
   "source": [
    "visual_tree = DecisionTreeClassifier(max_depth=3, random_state=42)\n",
    "visual_tree.fit(features_train, target_train)\n",
    "\n",
    "# Visualize the smaller tree\n",
    "plt.figure(figsize=(16, 8))\n",
    "plot_tree(visual_tree, \n",
    "          feature_names=features.columns, \n",
    "          class_names=[\"Smart\", \"Ultra\"], \n",
    "          filled=True)\n",
    "plt.title(\"Simplified Decision Tree (max_depth=3)\")\n",
    "plt.show()"
   ]
  },
  {
   "cell_type": "markdown",
   "id": "56e1da47-a615-42c3-b208-bff82e982f78",
   "metadata": {},
   "source": [
    "Although the best-performing decision tree has a maximum depth of 8, visualizing the full tree would be too complex.  \n",
    "To better understand the decision-making process, I trained a smaller tree with `max_depth=3` and visualized it.\n",
    "\n",
    "This simplified tree shows the most important early splits and helps interpret how the model separates Smart and Ultra users based on key features like:\n",
    "- `minutes`\n",
    "- `mb_used`\n",
    "- `calls`\n",
    "- `messages`\n",
    "\n",
    "Each node in the decision tree visualization includes several key pieces of information:\r\n",
    "\r\n",
    "- **Split condition**  \r\n",
    "  Example: `calls <= 128.5`  \r\n",
    "  This means that all users with 128.5 or fewer calls are included in this node.\r\n",
    "\r\n",
    "- **gini**  \r\n",
    "  This is the Gini impurity index — it measures how mixed the node is in terms of class labels.  \r\n",
    "  - A value of `0` means the node is pure (only one class is present).  \r\n",
    "  - A value close to `0.5` means the classes are mixed about evenly.  \r\n",
    "  In our case, `gini = 0.268` indicates that most users in this node belong to the same class, but there is still some mixing.\r\n",
    "\r\n",
    "- **samples**  \r\n",
    "  The number of data points (users) that reached this node.  \r\n",
    "  Example: `samples = 157` means this condition applies to 157 users.\r\n",
    "\r\n",
    "- **value = [25, 132]**  \r\n",
    "  This shows the number of users of each class:  \r\n",
    "  - 25 users with the Smart plan (label 0)  \r\n",
    "  - 132 users with the Ultra plan (label 1)\r\n",
    "\r\n",
    "- **class = Ultra**  \r\n",
    "  The predicted class for this node — the model predicts **Ultra** here because the majority of users in this node are Ultra users.\n",
    " than ~768 minutes and make over ~128 calls are highly likely to use the Ultra plan.  \n",
    "Meanwhile, users with lower internet usage and fewer messages are more likely to stay on the Smart plan.\n",
    "\n",
    "This kind of visualization is useful for business stakeholders who want to understand the logic behind the predictions."
   ]
  },
  {
   "cell_type": "markdown",
   "id": "341f98ef-ef14-424b-b8d0-28b758996655",
   "metadata": {},
   "source": [
    "## Random Forest"
   ]
  },
  {
   "cell_type": "code",
   "execution_count": 250,
   "id": "bb02eff5-749e-4de6-beaa-d8ed91555804",
   "metadata": {},
   "outputs": [
    {
     "name": "stdout",
     "output_type": "stream",
     "text": [
      "Best n_estimators Random Forest: 28\n",
      "Best Random Forest accuracy: 0.812\n",
      "Precision: 0.775\n",
      "Recall: 0.543\n"
     ]
    }
   ],
   "source": [
    "best_rf_model = None\n",
    "best_rf_accuracy = 0\n",
    "\n",
    "# Try different numbers of estimators\n",
    "for n_estimators in range(1, 30):\n",
    "    model = RandomForestClassifier(n_estimators=n_estimators, random_state=123)\n",
    "    model.fit(features_train, target_train)\n",
    "    predictions_valid = model.predict(features_valid)\n",
    "    accuracy = accuracy_score(target_valid, predictions_valid)\n",
    "    precision = precision_score(target_valid, predictions_valid)\n",
    "    recall = recall_score(target_valid, predictions_valid)\n",
    "    if accuracy > best_rf_accuracy:\n",
    "        best_rf_accuracy = accuracy\n",
    "        best_rf_model = model\n",
    "        best_n_est_model = n_estimators\n",
    "        best_rf_precision = precision\n",
    "        best_rf_recall = recall\n",
    "\n",
    "print(f'Best n_estimators Random Forest: {best_n_est_model}')\n",
    "print(f'Best Random Forest accuracy: {best_rf_accuracy:.3f}')\n",
    "print(f'Precision: {best_rf_precision:.3f}')\n",
    "print(f'Recall: {best_rf_recall:.3f}')"
   ]
  },
  {
   "cell_type": "markdown",
   "id": "afcfb2ae-c997-46d0-970f-3c2e8bf2f04f",
   "metadata": {},
   "source": [
    "- This model has the highest overall accuracy (81.2%) among all tested models so far.\r\n",
    "- Precision (0.775) is slightly lower than in the Decision Tree, but still strong.\r\n",
    "- Recall has improved to 0.543 — the model identifies more actual Ultra users compared to the Decision Tree.\r\n",
    "\r\n",
    "**Conclusion:**\r\n",
    "The Random Forest model offers the best balance between accuracy, precision, and recall. It performs better in identifying Ultra plan users while maintaining solid overall performance."
   ]
  },
  {
   "cell_type": "markdown",
   "id": "149603dc-f6ee-4abe-86f6-32c80d56f7a5",
   "metadata": {},
   "source": [
    "## Logistic Regression"
   ]
  },
  {
   "cell_type": "code",
   "execution_count": 178,
   "id": "f03efc80-b0f2-4222-8303-353c5521a001",
   "metadata": {},
   "outputs": [
    {
     "name": "stdout",
     "output_type": "stream",
     "text": [
      "Logistic Regression accuracy: 0.720\n",
      "Precision: 0.758\n",
      "Recall: 0.127\n"
     ]
    }
   ],
   "source": [
    "# Train logistic regression model\n",
    "logreg_model = LogisticRegression(random_state=123, solver='liblinear')\n",
    "logreg_model.fit(features_train, target_train)\n",
    "predictions_valid = logreg_model.predict(features_valid)\n",
    "logreg_accuracy = accuracy_score(target_valid, predictions_valid)\n",
    "log_precision = precision_score(target_valid, predictions_valid)\n",
    "log_recall = recall_score(target_valid, predictions_valid)\n",
    "print(f'Logistic Regression accuracy: {logreg_accuracy:.3f}')\n",
    "print(f'Precision: {log_precision:.3f}')\n",
    "print(f'Recall: {log_recall:.3f}')\n"
   ]
  },
  {
   "cell_type": "markdown",
   "id": "cfc913aa-b8a6-471e-a6ff-7aa0e3841f08",
   "metadata": {},
   "source": [
    "- Overall accuracy is below the required threshold of 0.75.\r\n",
    "- Precision is decent, meaning predictions of Ultra are often correct.\r\n",
    "- However, recall is very low (0.127), which indicates that the model **fails to identify most Ultra users**.\r\n",
    "\r\n",
    "**Conclusion:**\r\n",
    "Logistic Regression is not suitable for this task. While it avoids false positives, it misses the majority of actual Ultra users, making it unreliable for the company’s goal of recommending plans based on user behavior."
   ]
  },
  {
   "cell_type": "markdown",
   "id": "9bca148f-ba05-4008-90eb-15de485b085c",
   "metadata": {},
   "source": [
    "\n",
    "| Model               | Accuracy | Precision | Recall |\n",
    "|---------------------|----------|-----------|--------|\n",
    "| Decision Tree       | 0.796    | 0.780     | 0.467  |\n",
    "| Random Forest       | 0.812    | 0.775     | 0.543  |\n",
    "| Logistic Regression | 0.720    | 0.758     | 0.127  |\n",
    "\n",
    "**Conclusion:**\n",
    "The **Random Forest** model performs best overall.  \n",
    "It has the highest accuracy and the best balance between precision and recall, making it the most effective model for predicting user plan preferences and helping Megaline recommend the right plan."
   ]
  },
  {
   "cell_type": "markdown",
   "id": "6a1df229-7889-41db-8129-bb50b519c7f9",
   "metadata": {},
   "source": [
    "## *Evaluate the best model on the test set*"
   ]
  },
  {
   "cell_type": "code",
   "execution_count": 182,
   "id": "fb51381e-5e49-4942-a08a-f2633452876f",
   "metadata": {},
   "outputs": [
    {
     "name": "stdout",
     "output_type": "stream",
     "text": [
      "Final test set accuracy: 0.799\n"
     ]
    }
   ],
   "source": [
    "# The best performing model- The Random Forest\n",
    "final_model = best_rf_model  \n",
    "predictions_test = final_model.predict(features_test)\n",
    "final_accuracy = accuracy_score(target_test, predictions_test)\n",
    "\n",
    "print(f'Final test set accuracy: {final_accuracy:.3f}')\n"
   ]
  },
  {
   "cell_type": "markdown",
   "id": "8d7c6e94-ac07-4cca-af56-afcf4d0d9eba",
   "metadata": {},
   "source": [
    "After selecting the best model using the validation set, I evaluate its performance on the test set — data the model has never seen before.ermal.**  \r\n",
    "As long as the test accuracy meets the required threshold (≥ 0.75) and doesn't drop significantly compared to the validation results, the model is considered stable and reliable."
   ]
  },
  {
   "cell_type": "markdown",
   "id": "6b190d32-26ef-4af4-972c-7be98ad0536c",
   "metadata": {},
   "source": [
    "## *Sanity check (baseline model)*"
   ]
  },
  {
   "cell_type": "code",
   "execution_count": 223,
   "id": "45f63487-9329-4e33-8254-fde49cf46aad",
   "metadata": {},
   "outputs": [
    {
     "name": "stdout",
     "output_type": "stream",
     "text": [
      "DummyClassifier accuracy: 0.697\n"
     ]
    }
   ],
   "source": [
    "# Create and fit dummy model (always predicts most frequent class)\n",
    "dummy_model = DummyClassifier(strategy='most_frequent', random_state=42)\n",
    "dummy_model.fit(features_train, target_train)\n",
    "\n",
    "# Predict on the test set\n",
    "dummy_predictions = dummy_model.predict(features_test)\n",
    "\n",
    "# Calculate dummy accuracy\n",
    "dummy_accuracy = accuracy_score(target_test, dummy_predictions)\n",
    "print(f'DummyClassifier accuracy: {dummy_accuracy:.3f}')"
   ]
  },
  {
   "cell_type": "markdown",
   "id": "9db7f28c-5013-4eaf-939c-ebba6bc71ab5",
   "metadata": {},
   "source": [
    "Sanity Check: DummyClassifier\r\n",
    "\r\n",
    "To confirm that our trained model is actually learning meaningful patterns rather than guessing based on class distributionIwe compared it with a baseline model — `DummyClassifier`.\r\n",
    "\r\n",
    "- **DummyClassifier accuracy:** 0.697  \r\n",
    "- **Random Forest test accuracy:** 0.799\r\n",
    "\r\n",
    "**Conclusion:**  \r\n",
    "The Random Forest model outperforms the DummyClassifier by a significant margin (≈10% higher accuracy).  \r\n",
    "This proves that our model is not just exploiting class imbalance — it is effectively capturing real user behavior and making valuable predictions."
   ]
  },
  {
   "cell_type": "markdown",
   "id": "441ab21d-20ac-43d3-b1ed-84322d17f049",
   "metadata": {},
   "source": [
    "## Final Conclusion\r\n",
    "\r\n",
    "In this project, I tested three classification models to predict which mobile plan (Smart or Ultra) a user is likely to choose based on their monthly behavior data.\r\n",
    "\r\n",
    "### Model performance summary:\r\n",
    "| Model               | Accuracy | Precision | Recall |\r\n",
    "|---------------------|----------|-----------|--------|\r\n",
    "| Decision Tree       | 0.796    | 0.780     | 0.467  |\r\n",
    "| Random Forest       | 0.812    | 0.775     | 0.543  |\r\n",
    "| Logistic Regression | 0.720    | 0.758     | 0.127  |\r\n",
    "\r\n",
    "### Key takeaways:\r\n",
    "- **Random Forest** performed best overall with the highest accuracy (0.812) and a balanced precision and recall, making it the most reliable model for this task.\r\n",
    "- **Decision Tree** also performed well and is easier to interpret, but it missed more Ultra users (lower recall).\r\n",
    "- **Logistic Regression** had the lowest recall and didn't meet the target accuracy of 0.75, making it the weakest model for this problem.\r\n",
    "\r\n",
    "I also compared my best model to a `DummyClassifier` which simply predicts the most frequent class. The dummy model had an accuracy of **0.697**, while my Random Forest model achieved **0.799** on the test set — confirming that the model actually learned meaningful patterns.\r\n",
    "\r\n",
    "**Final decision:**  \r\n",
    "I recommend using the **Random Forest model** for predicting user plans. It provides strong performance and is suitable for helping Megaline recommend newer plans to their customers."
   ]
  },
  {
   "cell_type": "code",
   "execution_count": null,
   "id": "5e845d0a-022d-43bd-b587-f05fc1a4dafb",
   "metadata": {},
   "outputs": [],
   "source": []
  }
 ],
 "metadata": {
  "kernelspec": {
   "display_name": "Python 3 (ipykernel)",
   "language": "python",
   "name": "python3"
  },
  "language_info": {
   "codemirror_mode": {
    "name": "ipython",
    "version": 3
   },
   "file_extension": ".py",
   "mimetype": "text/x-python",
   "name": "python",
   "nbconvert_exporter": "python",
   "pygments_lexer": "ipython3",
   "version": "3.12.4"
  }
 },
 "nbformat": 4,
 "nbformat_minor": 5
}
